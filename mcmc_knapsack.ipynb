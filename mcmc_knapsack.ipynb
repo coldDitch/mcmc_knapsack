{
 "cells": [
  {
   "cell_type": "code",
   "execution_count": 1,
   "metadata": {},
   "outputs": [],
   "source": [
    "import numpy as np"
   ]
  },
  {
   "cell_type": "code",
   "execution_count": 2,
   "metadata": {},
   "outputs": [],
   "source": [
    "def flip(arr,ind):\n",
    "    new_arr = arr.copy()\n",
    "    new_arr[ind] = 1 - arr[ind]\n",
    "    return new_arr\n",
    "    \n",
    "def MCMC(n_chains, iters, n_items, W_i, w):\n",
    "    # implements random walk in solution space\n",
    "    x_s = np.empty((iters, n_chains, n_items))\n",
    "    x_s[0] = np.zeros((n_chains, n_items))\n",
    "    for i in range(1,iters):\n",
    "        for c in range(n_chains):\n",
    "            if 1==np.random.randint(2):\n",
    "                flip_ind = np.random.randint(n_items)\n",
    "                x_s[i, c] = flip(x_s[i-1, c],flip_ind)\n",
    "                if np.dot(x_s[i, c], w) > W_i:\n",
    "                    x_s[i, c] = flip(x_s[i, c],flip_ind)\n",
    "            else:\n",
    "                x_s[i, c] = x_s[i-1, c]\n",
    "                \n",
    "    return x_s[int(iters/4*3):] #discard three quaters as warmup\n",
    "\n",
    "def estimate_n_solutions(items, W):\n",
    "    running_weight = 0\n",
    "    weight_last = 0\n",
    "    iters = 20000\n",
    "    n_chains = 2\n",
    "    n_items = len(items)\n",
    "    omegainv = 1\n",
    "    for i in range(n_items): #divide problem into subproblems\n",
    "        running_weight += items[i]\n",
    "        weight = min(W, running_weight)\n",
    "        x_s = MCMC(n_chains, iters, n_items, weight, items) #sample from solution space\n",
    "        n_samples = int(iters/4 * n_chains)\n",
    "        x_s = x_s.reshape(n_samples, n_items)\n",
    "        rho = len([1 for x in x_s if np.dot(x,items) <= weight_last])/n_samples\n",
    "        omegainv *= rho\n",
    "        weight_last = weight\n",
    "    return 1/omegainv"
   ]
  },
  {
   "cell_type": "code",
   "execution_count": 4,
   "metadata": {},
   "outputs": [
    {
     "data": {
      "text/plain": [
       "53.4631959189924"
      ]
     },
     "execution_count": 4,
     "metadata": {},
     "output_type": "execute_result"
    }
   ],
   "source": [
    "item_weights = list(range(1,8))\n",
    "weight_limit = 13\n",
    "estimate_n_solutions(item_weights,weight_limit)"
   ]
  },
  {
   "cell_type": "code",
   "execution_count": null,
   "metadata": {},
   "outputs": [],
   "source": []
  }
 ],
 "metadata": {
  "kernelspec": {
   "display_name": "Python 3",
   "language": "python",
   "name": "python3"
  },
  "language_info": {
   "codemirror_mode": {
    "name": "ipython",
    "version": 3
   },
   "file_extension": ".py",
   "mimetype": "text/x-python",
   "name": "python",
   "nbconvert_exporter": "python",
   "pygments_lexer": "ipython3",
   "version": "3.9.1"
  }
 },
 "nbformat": 4,
 "nbformat_minor": 4
}
