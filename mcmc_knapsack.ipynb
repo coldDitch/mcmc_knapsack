{
 "cells": [
  {
   "cell_type": "code",
   "execution_count": 58,
   "metadata": {},
   "outputs": [],
   "source": [
    "import numpy as np"
   ]
  },
  {
   "cell_type": "code",
   "execution_count": 57,
   "metadata": {},
   "outputs": [],
   "source": [
    "def flip(arr,ind):\n",
    "    arr[ind] = 1 - arr[ind]\n",
    "    \n",
    "def MCMC(n_samples, n_items, W_i, w):\n",
    "    x_s = np.zeros((n_samples, n_items))\n",
    "    for _ in range(100):\n",
    "        for i in range(n_samples):\n",
    "            if 1==np.random.randint(2):\n",
    "                flip_ind = np.random.randint(n_items)\n",
    "                flip(x_s[i],flip_ind)\n",
    "                if np.dot(x_s[i],w) > W_i:\n",
    "                    flip(x_s[i],flip_ind)\n",
    "    return x_s\n",
    "\n",
    "def estimate_n_solutions(items, W):\n",
    "    running_weight = 0\n",
    "    weight_last = 0\n",
    "    n_samples = 3000\n",
    "    n_items = len(items)\n",
    "    omegainv = 1\n",
    "    for i in range(n_items):\n",
    "        running_weight += items[i]\n",
    "        weight = min(W, running_weight)\n",
    "        x_s = MCMC(n_samples, n_items, weight, items)\n",
    "        rho = len([1 for x in x_s if np.dot(x,items) <= weight_last])/n_samples\n",
    "        omegainv *= rho\n",
    "        weight_last = weight\n",
    "    return 1/omegainv"
   ]
  },
  {
   "cell_type": "code",
   "execution_count": 56,
   "metadata": {},
   "outputs": [
    {
     "data": {
      "text/plain": [
       "67.16181020959253"
      ]
     },
     "execution_count": 56,
     "metadata": {},
     "output_type": "execute_result"
    }
   ],
   "source": [
    "estimate_n_solutions(list(range(1,7)),20)"
   ]
  }
 ],
 "metadata": {
  "kernelspec": {
   "display_name": "Python 3.8.2 64-bit ('censenv': venv)",
   "language": "python",
   "name": "python38264bitcensenvvenv47401c43a5c3403e9d21b838708a5d4c"
  },
  "language_info": {
   "codemirror_mode": {
    "name": "ipython",
    "version": 3
   },
   "file_extension": ".py",
   "mimetype": "text/x-python",
   "name": "python",
   "nbconvert_exporter": "python",
   "pygments_lexer": "ipython3",
   "version": "3.8.2"
  }
 },
 "nbformat": 4,
 "nbformat_minor": 4
}
